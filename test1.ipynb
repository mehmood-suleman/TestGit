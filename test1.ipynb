{
 "cells": [
  {
   "cell_type": "code",
   "execution_count": 1,
   "id": "cf41e35b",
   "metadata": {},
   "outputs": [],
   "source": [
    "# Import libraries\n",
    "import pandas as pd\n",
    "import matplotlib.pyplot as plt\n",
    "import numpy.random as np\n",
    "import sys\n",
    "import matplotlib\n",
    "\n",
    "%matplotlib inline\n"
   ]
  },
  {
   "cell_type": "code",
   "execution_count": 2,
   "id": "1b60f3e1",
   "metadata": {},
   "outputs": [
    {
     "name": "stdout",
     "output_type": "stream",
     "text": [
      "Python version 3.9.7 (default, Sep 16 2021, 16:59:28) [MSC v.1916 64 bit (AMD64)]\n",
      "Pandas version: 1.3.4\n",
      "Matplotlib version 3.4.3\n"
     ]
    }
   ],
   "source": [
    "print('Python version ' + sys.version)\n",
    "print('Pandas version: ' + pd.__version__)\n",
    "print('Matplotlib version ' + matplotlib.__version__)\n"
   ]
  },
  {
   "cell_type": "code",
   "execution_count": 3,
   "id": "88d309a4",
   "metadata": {},
   "outputs": [
    {
     "name": "stdout",
     "output_type": "stream",
     "text": [
      "mehmood\n"
     ]
    }
   ],
   "source": [
    "print(\"mehmood\")"
   ]
  },
  {
   "cell_type": "code",
   "execution_count": 10,
   "id": "f062cc40",
   "metadata": {},
   "outputs": [
    {
     "ename": "NameError",
     "evalue": "name 'student_detail' is not defined",
     "output_type": "error",
     "traceback": [
      "\u001b[1;31m---------------------------------------------------------------------------\u001b[0m",
      "\u001b[1;31mNameError\u001b[0m                                 Traceback (most recent call last)",
      "\u001b[1;32m~\\AppData\\Local\\Temp/ipykernel_6516/3272804068.py\u001b[0m in \u001b[0;36m<module>\u001b[1;34m\u001b[0m\n\u001b[0;32m      5\u001b[0m                   \u001b[1;34m\"Batch\"\u001b[0m\u001b[1;33m:\u001b[0m \u001b[1;36m3\u001b[0m\u001b[1;33m,\u001b[0m\u001b[1;33m\u001b[0m\u001b[1;33m\u001b[0m\u001b[0m\n\u001b[0;32m      6\u001b[0m                  \"City\":\"Karachi\",}\n\u001b[1;32m----> 7\u001b[1;33m \u001b[0mprint\u001b[0m\u001b[1;33m(\u001b[0m\u001b[0mstudent_detail\u001b[0m\u001b[1;33m)\u001b[0m\u001b[1;33m\u001b[0m\u001b[1;33m\u001b[0m\u001b[0m\n\u001b[0m",
      "\u001b[1;31mNameError\u001b[0m: name 'student_detail' is not defined"
     ]
    }
   ],
   "source": [
    "student_detail = {\"Name\" : \"Mehmood\",\n",
    "                 \"Father Name\" : \"Suleman\",\n",
    "                 \"Course\":\"AI & DS\",\n",
    "                 \"Roll No\": 42148,\n",
    "                  \"Batch\": 3,\n",
    "                   \"City\":\"Karachi\",}\n",
    "print(student_detail)"
   ]
  },
  {
   "cell_type": "code",
   "execution_count": 11,
   "id": "9d559fce",
   "metadata": {},
   "outputs": [
    {
     "name": "stdout",
     "output_type": "stream",
     "text": [
      "{'Name': 'Mehmood', 'Father Name': 'Suleman', 'Course': 'AI & DS', 'Roll No': 42148, 'Batch': 3, 'City': 'Karachi'}\n"
     ]
    }
   ],
   "source": [
    "student_detail = {\"Name\" : \"Mehmood\",\n",
    "                 \"Father Name\" : \"Suleman\",\n",
    "                 \"Course\":\"AI & DS\",\n",
    "                 \"Roll No\": 42148,\n",
    "                  \"Batch\": 3,\n",
    "                   \"City\":\"Karachi\",}\n",
    "print(student_detail)"
   ]
  },
  {
   "cell_type": "code",
   "execution_count": null,
   "id": "9147ceab",
   "metadata": {},
   "outputs": [],
   "source": []
  }
 ],
 "metadata": {
  "kernelspec": {
   "display_name": "Python 3 (ipykernel)",
   "language": "python",
   "name": "python3"
  },
  "language_info": {
   "codemirror_mode": {
    "name": "ipython",
    "version": 3
   },
   "file_extension": ".py",
   "mimetype": "text/x-python",
   "name": "python",
   "nbconvert_exporter": "python",
   "pygments_lexer": "ipython3",
   "version": "3.9.7"
  }
 },
 "nbformat": 4,
 "nbformat_minor": 5
}
